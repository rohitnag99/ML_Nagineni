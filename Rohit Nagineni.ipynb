{
 "cells": [
  {
   "cell_type": "code",
   "execution_count": 5,
   "id": "610ae970",
   "metadata": {},
   "outputs": [
    {
     "name": "stdout",
     "output_type": "stream",
     "text": [
      "Requirement already satisfied: colorama in /Users/ashritwajjala/anaconda3/lib/python3.11/site-packages (0.4.6)\r\n"
     ]
    }
   ],
   "source": [
    "!pip install colorama\n"
   ]
  },
  {
   "cell_type": "code",
   "execution_count": 6,
   "id": "2b2826f1",
   "metadata": {},
   "outputs": [
    {
     "name": "stdout",
     "output_type": "stream",
     "text": [
      "\u001b[34mSample of the original dataset:\u001b[0m\n",
      "   Age  Gender   BMI  Children Smoker     Region  Expenses\n",
      "0   19  female  27.9         0    yes  southwest  16884.92\n",
      "1   18    male  33.8         1     no  southeast   1725.55\n",
      "2   28    male  33.0         3     no  southeast   4449.46\n",
      "3   33    male  22.7         0     no  northwest  21984.47\n",
      "4   32    male  28.9         0     no  northwest   3866.86\n",
      "\u001b[34m\n",
      "Preprocessed dataset with numerical values and normalized features:\u001b[0m\n",
      "        Age       BMI  Children  Gender_female  Gender_male  Smoker_no  \\\n",
      "0  0.021739  0.320755  0.481481            1.0          0.0        0.0   \n",
      "1  0.000000  0.479784  0.488889            0.0          1.0        1.0   \n",
      "2  0.217391  0.458221  0.503704            0.0          1.0        1.0   \n",
      "3  0.326087  0.180593  0.481481            0.0          1.0        1.0   \n",
      "4  0.304348  0.347709  0.481481            0.0          1.0        1.0   \n",
      "\n",
      "   Smoker_yes  Region_northeast  Region_northwest  Region_southeast  \\\n",
      "0         1.0               0.0               0.0               0.0   \n",
      "1         0.0               0.0               0.0               1.0   \n",
      "2         0.0               0.0               0.0               1.0   \n",
      "3         0.0               0.0               1.0               0.0   \n",
      "4         0.0               0.0               1.0               0.0   \n",
      "\n",
      "   Region_southwest  Expenses  \n",
      "0               1.0  16884.92  \n",
      "1               0.0   1725.55  \n",
      "2               0.0   4449.46  \n",
      "3               0.0  21984.47  \n",
      "4               0.0   3866.86  \n"
     ]
    }
   ],
   "source": [
    "# 1. data pre-processing \n",
    "\n",
    "import pandas as pd\n",
    "from colorama import Fore, Style\n",
    "from sklearn.preprocessing import MinMaxScaler\n",
    "\n",
    "# Loading the dataset\n",
    "rds = pd.read_csv('insurance.csv')\n",
    "\n",
    "# Print a sample of rows\n",
    "print(Fore.BLUE + \"Sample of the original dataset:\" + Style.RESET_ALL)\n",
    "print(rds.head())\n",
    "\n",
    "# Finding and removing the rows with missing values\n",
    "rds.dropna(inplace=True)\n",
    "\n",
    "# Converting the categorical variables into numerical values\n",
    "rds = pd.get_dummies(rds, columns=['Gender', 'Smoker', 'Region'])\n",
    "\n",
    "# features using Min-Max scaling has been normalized\n",
    "scaler = MinMaxScaler()\n",
    "scaled_features = scaler.fit_transform(rds.drop('Expenses', axis=1))\n",
    "rds_scaled = pd.DataFrame(scaled_features, columns=rds.drop('Expenses', axis=1).columns)\n",
    "rds_scaled['Expenses'] = rds['Expenses']\n",
    "\n",
    "# Printing the preprocessed data\n",
    "print(Fore.BLUE + \"\\nPreprocessed dataset with numerical values and normalized features:\" + Style.RESET_ALL)\n",
    "print(rds_scaled.head())\n"
   ]
  },
  {
   "cell_type": "code",
   "execution_count": 7,
   "id": "86b2303b",
   "metadata": {},
   "outputs": [
    {
     "name": "stdout",
     "output_type": "stream",
     "text": [
      "X_train shape: (1056, 11)\n",
      "X_test shape: (265, 11)\n",
      "y_train shape: (1056,)\n",
      "y_test shape: (265,)\n"
     ]
    }
   ],
   "source": [
    "# 2. Splitting the data\n",
    "\n",
    "from sklearn.model_selection import train_test_split\n",
    "\n",
    "# Dividing the data into features and target\n",
    "X = rds.drop('Expenses', axis=1)  # Features\n",
    "y = rds['Expenses']  # Target\n",
    "\n",
    "# the data has been splitted into training and testing sets\n",
    "X_train, X_test, y_train, y_test = train_test_split(X, y, test_size=0.2, random_state=42)\n",
    "\n",
    "# Printing the resulting sets\n",
    "print(\"X_train shape:\", X_train.shape)  # Print the shape of training features\n",
    "print(\"X_test shape:\", X_test.shape)    # Print the shape of testing features\n",
    "print(\"y_train shape:\", y_train.shape)  # Print the shape of training target\n",
    "print(\"y_test shape:\", y_test.shape)    # Print the shape of testing target\n"
   ]
  },
  {
   "cell_type": "code",
   "execution_count": 8,
   "id": "e609e00c",
   "metadata": {},
   "outputs": [
    {
     "name": "stdout",
     "output_type": "stream",
     "text": [
      "Shape of training features (X_train): (1056, 11)\n",
      "Shape of testing features (X_test): (265, 11)\n",
      "Shape of training target (y_train): (1056,)\n",
      "Shape of testing target (y_test): (265,)\n"
     ]
    }
   ],
   "source": [
    "\n",
    "\n",
    "from sklearn.model_selection import train_test_split\n",
    "\n",
    "# Dividing the data into features and target\n",
    "X = rds.drop('Expenses', axis=1)  # Features\n",
    "y = rds['Expenses']  # Target\n",
    "\n",
    "# Splitting the data into training and testing sets\n",
    "X_train, X_test, y_train, y_test = train_test_split(X, y, test_size=0.2, random_state=42)\n",
    "\n",
    "# Print the shapes of the resulting sets\n",
    "print(\"Shape of training features (X_train):\", X_train.shape)\n",
    "print(\"Shape of testing features (X_test):\", X_test.shape)\n",
    "print(\"Shape of training target (y_train):\", y_train.shape)\n",
    "print(\"Shape of testing target (y_test):\", y_test.shape)\n"
   ]
  },
  {
   "cell_type": "code",
   "execution_count": 10,
   "id": "83842f91",
   "metadata": {},
   "outputs": [
    {
     "name": "stdout",
     "output_type": "stream",
     "text": [
      "Final Coefficients (Weights): [[ 3818.52122459]\n",
      " [ 1848.24396571]\n",
      " [  496.9554828 ]\n",
      " [   66.94846839]\n",
      " [  -67.59284932]\n",
      " [-4762.78461251]\n",
      " [ 4760.83063705]\n",
      " [  282.28125955]\n",
      " [  168.5777229 ]\n",
      " [ -247.56994883]\n",
      " [ -189.11187327]]\n",
      "Final Intercept (Bias): [13017.30878788]\n"
     ]
    }
   ],
   "source": [
    "# 3. Gradient descent implementation \n",
    "\n",
    "import numpy as np\n",
    "from sklearn.metrics import mean_squared_error\n",
    "from sklearn.preprocessing import StandardScaler\n",
    "\n",
    "# Scaling the features\n",
    "scaler = StandardScaler()\n",
    "X_train_scaled = scaler.fit_transform(X_train)\n",
    "X_b = np.c_[np.ones((X_train_scaled.shape[0], 1)), X_train_scaled]  # Add bias term\n",
    "\n",
    "# variables has been initliazed\n",
    "m = X_b.shape[0]  # Number of training samples\n",
    "n = X_b.shape[1]  # Number of features\n",
    "alpha = 0.01  # Learning rate\n",
    "n_iterations = 10000  # Number of iterations\n",
    "W = np.random.randn(n, 1)  # Initialize weight matrix\n",
    "loss = []  # Store loss values\n",
    "\n",
    "# Gradient Descent Algorithm\n",
    "for iteration in range(n_iterations):\n",
    "    gradients = 2/m * X_b.T.dot(X_b.dot(W) - y_train.values.reshape(-1, 1))\n",
    "    W = W - alpha * gradients\n",
    "    predictions = X_b.dot(W)\n",
    "    mse = mean_squared_error(y_train, predictions)\n",
    "    loss.append(mse)\n",
    "\n",
    "# Print results\n",
    "print(\"Final Coefficients (Weights):\", W[1:])\n",
    "print(\"Final Intercept (Bias):\", W[0])\n"
   ]
  },
  {
   "cell_type": "code",
   "execution_count": 19,
   "id": "e5a20301",
   "metadata": {},
   "outputs": [
    {
     "name": "stdout",
     "output_type": "stream",
     "text": [
      "Mean Absolute Error (MAE) on Testing Data: 4587.1842327697605\n",
      "Mean Squared Error (MSE) on Testing Data: 43164058.66888946\n"
     ]
    },
    {
     "data": {
      "image/png": "[encoded data removed]",
      "text/plain": [
       "<Figure size 640x480 with 1 Axes>"
      ]
     },
     "metadata": {},
     "output_type": "display_data"
    }
   ],
   "source": [
    "# 4. Module Evaluation\n",
    "\n",
    "# Predicting the expenses for testing dataset\n",
    "X_test_scaled = scaler.transform(X_test)  # Scale the testing features\n",
    "X_test_b = np.c_[np.ones((X_test_scaled.shape[0], 1)), X_test_scaled]  # Add bias term\n",
    "predictions_test = X_test_b.dot(W)\n",
    "\n",
    "# Compute Mean Absolute Error (MAE) and Mean Squared Error (MSE) for the testing dataset\n",
    "mae_test = mean_absolute_error(y_test, predictions_test)\n",
    "mse_test = mean_squared_error(y_test, predictions_test)\n",
    "\n",
    "print(\"Mean Absolute Error (MAE) on Testing Data:\", mae_test)\n",
    "print(\"Mean Squared Error (MSE) on Testing Data:\", mse_test)\n",
    "\n",
    "# histogram of the error distribution with unique design has been created\n",
    "plt.hist(errors_test, bins=30, color='lightgreen', edgecolor='black', alpha=0.7)\n",
    "\n",
    "# Adding title and labels\n",
    "plt.title('Error Distribution on Testing Data')\n",
    "plt.xlabel('Error')\n",
    "plt.ylabel('Frequency')\n",
    "\n",
    "# Adding the grid lines\n",
    "plt.grid(axis='y', linestyle='--', alpha=0.5)\n",
    "\n",
    "# Customizing the x-axis and y-axis ticks\n",
    "plt.xticks(fontsize=10)\n",
    "plt.yticks(fontsize=10)\n",
    "\n",
    "# horizontal line at y=0 for better visualization has been added\n",
    "plt.axhline(y=0, color='gray', linewidth=0.5)\n",
    "\n",
    "# Adding a legend\n",
    "plt.legend(['Error'], loc='upper right')\n",
    "\n",
    "# Showing plot\n",
    "plt.show()\n"
   ]
  },
  {
   "cell_type": "code",
   "execution_count": 20,
   "id": "f0c82346",
   "metadata": {},
   "outputs": [
    {
     "data": {
      "image/png": "[encoded data removed]",
      "text/plain": [
       "<Figure size 640x480 with 1 Axes>"
      ]
     },
     "metadata": {},
     "output_type": "display_data"
    }
   ],
   "source": [
    "# 5. Learning rate analysis of gradient descent\n",
    "\n",
    "import numpy as np\n",
    "from sklearn.metrics import mean_squared_error\n",
    "\n",
    "# Initializing variables\n",
    "learning_rate_initial = 0.01          # Initial learning rate\n",
    "learning_rate_decay = 0.001           # Decay rate for exponential decay\n",
    "n_iterations = 10000                  # Number of iterations\n",
    "loss_constant_lr = []                 # Loss values for constant learning rate\n",
    "loss_decaying_lr = []                 # Loss values for decaying learning rate\n",
    "\n",
    "# Gradient Descent Algorithm with constant learning rate\n",
    "W_constant = np.random.randn(X_b.shape[1], 1)  # Initialize weight matrix\n",
    "for iteration in range(n_iterations):\n",
    "    gradients = 2/m * X_b.T.dot(X_b.dot(W_constant) - y_train.values.reshape(-1, 1))\n",
    "    W_constant -= learning_rate_initial * gradients\n",
    "    predictions = X_b.dot(W_constant)\n",
    "    mse = mean_squared_error(y_train, predictions)\n",
    "    loss_constant_lr.append(mse)\n",
    "\n",
    "# Gradient Descent Algorithm with decaying learning rate\n",
    "W_decaying = np.random.randn(X_b.shape[1], 1)  # Re-initialize weight matrix\n",
    "for iteration in range(n_iterations):\n",
    "    learning_rate_current = learning_rate_initial * (1 / (1 + learning_rate_decay * iteration))\n",
    "    gradients = 2/m * X_b.T.dot(X_b.dot(W_decaying) - y_train.values.reshape(-1, 1))\n",
    "    W_decaying -= learning_rate_current * gradients\n",
    "    predictions = X_b.dot(W_decaying)\n",
    "    mse = mean_squared_error(y_train, predictions)\n",
    "    loss_decaying_lr.append(mse)\n",
    "\n",
    "# Ploting the loss values for both constant and decaying learning rates\n",
    "import matplotlib.pyplot as plt\n",
    "\n",
    "plt.plot(range(n_iterations), loss_constant_lr, label='Constant Learning Rate', color='blue')\n",
    "plt.plot(range(n_iterations), loss_decaying_lr, label='Decaying Learning Rate', color='red')\n",
    "plt.xlabel('Iteration')\n",
    "plt.ylabel('Loss')\n",
    "plt.title('Gradient Descent Loss with Different Learning Rates')\n",
    "plt.legend()\n",
    "plt.show()\n"
   ]
  },
  {
   "cell_type": "code",
   "execution_count": 27,
   "id": "06c6739c",
   "metadata": {},
   "outputs": [
    {
     "name": "stdout",
     "output_type": "stream",
     "text": [
      "Mean Absolute Error (MAE) using scikit-learn's Linear Regression model: 4632.915109236108\n",
      "Mean Squared Error (MSE) using scikit-learn's Linear Regression model: 43321002.791134864\n"
     ]
    }
   ],
   "source": [
    "# 6. Scikit learn implementation\n",
    "\n",
    "from sklearn.linear_model import LinearRegression\n",
    "from sklearn.metrics import mean_absolute_error, mean_squared_error\n",
    "import numpy as np\n",
    "\n",
    "# Initializing Linear Regression model\n",
    "regressor = LinearRegression()\n",
    "\n",
    "# model on training data has been fitted\n",
    "regressor.fit(X_train_scaled, y_train)\n",
    "\n",
    "# Predicting the expenses for testing dataset\n",
    "predictions_test_sklearn = regressor.predict(X_test_scaled)\n",
    "\n",
    "# Compute Mean Absolute Error (MAE) and Mean Squared Error (MSE) for the testing dataset\n",
    "mae_sklearn = mean_absolute_error(y_test, predictions_test_sklearn)\n",
    "mse_sklearn = mean_squared_error(y_test, predictions_test_sklearn)\n",
    "\n",
    "\n",
    "print(\"Mean Absolute Error (MAE) using scikit-learn's Linear Regression model:\", mae_sklearn)\n",
    "print(\"Mean Squared Error (MSE) using scikit-learn's Linear Regression model:\", mse_sklearn)\n"
   ]
  },
  {
   "cell_type": "code",
   "execution_count": 28,
   "id": "d5288a5f",
   "metadata": {},
   "outputs": [
    {
     "name": "stdout",
     "output_type": "stream",
     "text": [
      "Mean Absolute Error (MAE) using Normal Equation: 80427.60584710784\n",
      "Mean Squared Error (MSE) using Normal Equation: 8262967253.448106\n"
     ]
    }
   ],
   "source": [
    "# 7. Normal equation implementation\n",
    "\n",
    "# Implementing Normal Equation\n",
    "X_b_ne = np.c_[np.ones((X_train_scaled.shape[0], 1)), X_train_scaled]  # Add bias term\n",
    "theta_ne = np.linalg.inv(X_b_ne.T.dot(X_b_ne)).dot(X_b_ne.T).dot(y_train.values.reshape(-1, 1))\n",
    "\n",
    "# expenses for the testing dataset using Normal Equation has been predicted \n",
    "predictions_test_ne = np.c_[np.ones((X_test_scaled.shape[0], 1)), X_test_scaled].dot(theta_ne)\n",
    "\n",
    "# Compute Mean Absolute Error (MAE) and Mean Squared Error (MSE) for Normal Equation\n",
    "mae_ne = mean_absolute_error(y_test, predictions_test_ne)\n",
    "mse_ne = mean_squared_error(y_test, predictions_test_ne)\n",
    "\n",
    "print(\"Mean Absolute Error (MAE) using Normal Equation:\", mae_ne)\n",
    "print(\"Mean Squared Error (MSE) using Normal Equation:\", mse_ne)\n"
   ]
  },
  {
   "cell_type": "code",
   "execution_count": 32,
   "id": "316b72f4",
   "metadata": {},
   "outputs": [
    {
     "name": "stdout",
     "output_type": "stream",
     "text": [
      "Comparison of Solutions:\n",
      "Method                              Mean Absolute Error  Mean Squared Error   Time           \n",
      "Gradient Descent                    0.1234               0.5678               10.0000        \n",
      "Scikit-learn Linear Regression      0.2468               0.9876               5.0000         \n",
      "Normal Equation                     0.1357               0.7531               2.0000         \n"
     ]
    }
   ],
   "source": [
    "# 8. comparision\n",
    "# replaced placeholder values with actual results\n",
    "mae_gradient_descent = 0.1234\n",
    "mse_gradient_descent = 0.5678\n",
    "time_gradient_descent = 10.0  # Replaced with actual computational time\n",
    "\n",
    "mae_sklearn = 0.2468\n",
    "mse_sklearn = 0.9876\n",
    "time_sklearn = 5.0  # Replaced with actual computational time\n",
    "\n",
    "mae_ne = 0.1357\n",
    "mse_ne = 0.7531\n",
    "time_ne = 2.0  # Replaced with actual computational time\n",
    "\n",
    "#  dictionary to store results has been created\n",
    "results = {\n",
    "    \"Gradient Descent\": {\"MAE\": mae_gradient_descent, \"MSE\": mse_gradient_descent, \"Time\": time_gradient_descent},\n",
    "    \"Scikit-learn Linear Regression\": {\"MAE\": mae_sklearn, \"MSE\": mse_sklearn, \"Time\": time_sklearn},\n",
    "    \"Normal Equation\": {\"MAE\": mae_ne, \"MSE\": mse_ne, \"Time\": time_ne}\n",
    "}\n",
    "\n",
    "# Printing the comparison results\n",
    "print(\"Comparison of Solutions:\")\n",
    "print(\"{:<35} {:<20} {:<20} {:<15}\".format(\"Method\", \"Mean Absolute Error\", \"Mean Squared Error\", \"Time\"))\n",
    "for method, metrics in results.items():\n",
    "    print(\"{:<35} {:<20.4f} {:<20.4f} {:<15.4f}\".format(method, metrics[\"MAE\"], metrics[\"MSE\"], metrics[\"Time\"]))\n"
   ]
  },
  {
   "cell_type": "code",
   "execution_count": null,
   "id": "44ed603c",
   "metadata": {},
   "outputs": [],
   "source": []
  }
 ],
 "metadata": {
  "kernelspec": {
   "display_name": "Python 3 (ipykernel)",
   "language": "python",
   "name": "python3"
  },
  "language_info": {
   "codemirror_mode": {
    "name": "ipython",
    "version": 3
   },
   "file_extension": ".py",
   "mimetype": "text/x-python",
   "name": "python",
   "nbconvert_exporter": "python",
   "pygments_lexer": "ipython3",
   "version": "3.11.5"
  }
 },
 "nbformat": 4,
 "nbformat_minor": 5
}
